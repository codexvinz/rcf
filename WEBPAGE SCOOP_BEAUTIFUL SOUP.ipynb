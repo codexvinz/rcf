{
 "cells": [
  {
   "cell_type": "markdown",
   "metadata": {},
   "source": [
    "# DATA MINING FROM WEB PAGES USING BEAUTIFULSOUP (VOLUNTEER PROJECT)\n",
    "TO SCOOP COMPANIES, WHAT AREA OF CHARITY THEY MOSTLY INVEST IN AND NAMES OF FOUNDATION FROM WEBPAGES"
   ]
  },
  {
   "cell_type": "code",
   "execution_count": 47,
   "metadata": {
    "collapsed": true
   },
   "outputs": [],
   "source": [
    "#IMPORT LIBRARIES\n",
    "\n",
    "import urllib.request\n",
    "from bs4 import BeautifulSoup\n",
    "# url='https://doublethedonation.com/tips/companies-that-donate-to-nonprofits/'\n",
    "url='http://fortune.com/2016/06/22/fortune-500-most-charitable-companies/'"
   ]
  },
  {
   "cell_type": "code",
   "execution_count": 56,
   "metadata": {
    "collapsed": true
   },
   "outputs": [],
   "source": [
    "source=urllib.request.urlopen(url)  #OPEN THE URL\n",
    "soup=BeautifulSoup(source,'html.parser') #PARSE HTML TAGS\n",
    "title=soup.find_all('strong') #FIND ALL <strong> tags\n",
    "p=soup.find_all('p')  #FIND ALL <p> tags"
   ]
  },
  {
   "cell_type": "code",
   "execution_count": 57,
   "metadata": {},
   "outputs": [
    {
     "name": "stdout",
     "output_type": "stream",
     "text": [
      "By surveying the top 150 companies in the Fortune 500 and collecting data from public documents filed with the IRS and SEC, The Chronicle of Philanthropy has published a list of the most charitable public companies, which can be viewed here. With help from the Chronicle, Fortune has identified the top 20 most generous companies, as measured by cash contributions. The dollar amounts cited below were independently verified by Fortune. In total, the 20 most generous companies donated $3.5 billion in cash in 2015. \n",
      "1. Gilead Sciences\n",
      " \n",
      "Gilead’s 2015 cash contributions: $446.7 million\n",
      "Gilead’s (gild) giving jumped by nearly two-thirds in 2015, due to rising revenues as the biotech firm expanded into the Hepatitis C market. Most of the company’s grants are reactive, based on specific funding requests from nonprofit groups. The company declined to provide an accounting of its biggest cash grants in 2015, but said that most giving falls within its work on HIV/AIDS and liver disease. Last year, for example, Gilead granted $2-million to help the nonprofit Liver Foundation build a health facility in Kolkata, India.\n",
      "2. Walmart\n",
      " Courtesy of Walmart\n",
      "Walmart’s 2015 cash contributions: $301 million\n",
      "Kathleen McLaughlin serves as president of the Walmart Foundation and as the company’s chief sustainability officer, a reflection of the retail giant’s desire to align its philanthropic work with its efforts to green and improve its business operations and supply chain. Last year, it pledged $100 million to advance economic mobility for retail workers. That commitment includes a $10.9 million grant to nonprofit workforce organizations, to implement career services specific to retail. The company also raised starting wages for employees from $9 to $10 per hour. (Labor activists, along with a coalition of workers known as OUR Walmart, have called for an increase to $15 an hour). In addition, Walmart (wmt) helps the anti-hunger charity Feeding America distribute fresh produce to people in need by donating food, providing refrigerated trucks, and pairing its logistics experts with the organization.\n",
      "3. Wells Fargo\n",
      " Courtesy of Wells Fargo\n",
      "Wells Fargo’s 2015 cash contributions: $281.3 million\n",
      "The bank aims to donate between 1.2% and 1.5% of its earnings each year. It does that through two primary philanthropic portfolios: one that’s distributed at the local level, by senior leaders in markets where the bank operates, and a second that is national and more tightly tied to the firm’s business expertise. For example, in 2015, Wells Fargo (wfc) gave a total of $25 million to the nonprofit NeighborWorks, to support financial education and down payments on homes. Employees receive two days of paid leave per year to volunteer; they can also apply to spend six weeks working with a nonprofit of their choice.\n",
      "4. Goldman Sachs Group\n",
      " Courtesy of Goldman Sachs\n",
      "Goldman Sachs’s 2015 cash contributions: $276.4 million\n",
      "In 2007, the financial services firm hired Dina Powell, an alumna of the George W. Bush administration, to lead its philanthropy and social investments. Since then (and in the aftermath of the financial crisis), Goldman’s (gs) giving has spiked. It gave away 3% of its pre-tax profits last year, compared with a median of 1% for Fortune 500 companies, according to Chronicle of Philanthropy data. The firm’s signature initiatives, 10,000 Women and 10,000 Small Businesses, have catalyzed a loan facility with the International Finance Corporation for women entrepreneurs and connected 6,300 small business owners with training and capital, respectively. Goldman also gives away grants through a donor-advised fund based on guidance from its employees.\n",
      "5. ExxonMobil\n",
      " Courtesy of ExxonMobil\n",
      "ExxonMobil’s 2015 cash contributions: $268 million\n",
      "The oil and gas company (xom) inched up its giving by 13.2% last year. Grants focus on three areas: education, malaria prevention, and economic opportunity for women. The company declined to disclose details of its giving last year. But in 2014, the most recent year for which data was available, grants from the ExxonMobil Foundation included contributions of $80,000 to dozens of science camps at colleges and universities nationwide; $1.9 million to Vital Voices, the international women’s group founded by Hillary Clinton; and $500,000 to the Medicines for Malaria Venture. (Companies are required to disclose grants they give through philanthropic foundations but not what they give directly through their business).\n",
      "6. Chevron\n",
      " Courtesy of Chevron\n",
      "Chevron’s 2015 cash contributions: $225 million\n",
      "As oil prices slumped last year, so did Chevron’s (cvx) giving. The energy giant gave 7.2% less than in 2014, according to The Chronicle of Philanthropy. Chevron, which declined Fortune‘s request for an interview, supports economic development for women in Latin America and HIV/AIDS treatment in oil-rich African countries where it operates, according to its website. The company has also donated to the Clinton Foundation and to support science and tech education.\n",
      "7. JPMorgan Chase\n",
      " Photograph by Ed Kashi, Courtesy of JP Morgan Chase\n",
      "JPMorgan Chase’s 2015 cash contributions: $224 million\n",
      "JPMorgan Chase (jpm) focuses its social investing on economic opportunity. In 2014, the financial-services firm pledged $100 million in loans and grants to aid economic recovery in Detroit. One grant, for example, supported the development of a tool to map blighted properties with the goal of helping community groups and city officials return them to productive use. The firm’s “service corps” of employees assists Detroit nonprofits in developing strategic plans, financial models for earned revenue, and improved human resources systems.\n",
      " \n",
      "8. Bank of America\n",
      " Courtesy of Bank of America\n",
      "Bank of America’s 2015 cash contributions: $168.5 million\n",
      "Like many financial firms, Bank of America (bac) sharpened its focus on basic needs and economic mobility following the 2008 recession. Last year, it spent just shy of $50 million on workforce education, $33 million on community development, and $33 million on hunger and other urgent needs. During the winter holiday season, Bank of America runs a marketing campaign to raise money and awareness for the anti-hunger group Feeding America. For every dollar that customers give online to the group via Bank of America portals, the company contributes $2. Employees get two hours off per week to volunteer.\n",
      "9. Alphabet (Google)\n",
      " Courtesy of Google\n",
      "Google’s 2015 cash contributions: $167.8 million\n",
      "Google.org, the search engine’s (goog) philanthropic arm, supports organizations that are developing bold, sometimes risky, approaches to solving social problems. Founded with much fanfare after the company went public in 2004, Dot.org (as it is known within Google) had a bumpy beginning but has streamlined its work under Jacquelline Fuller, a Bill & Melinda Gates Foundation alumna. Recent grants include $2.4 million to GiveDirectly, a nonprofit that provides direct cash aid to the poor; $750,000 (plus engineering assistance) to help Perkins School for the Blind develop a “micronavigation app” based on crowdsourced data; and $1-million to the Equal Justice Initiative, a group led by lawyer Bryan Stevenson that advocates for criminal-justice reform. Google.org also deployed employees last fall to help install wifi along refugee routes in Europe.\n",
      "10. Citigroup\n",
      " Courtesy of Citigroup\n",
      "Citigroup’s 2015 cash contributions: $142.8 million\n",
      "Citigroup’s (c) philanthropy is integrated into its broader corporate citizenship strategy. It recently unveiled an investment of $50 million over three years in cash and other support to connect young people with career opportunities. As part of that program, the firm will fund AmeriCorps members in 10 cities to engage youth in service. Its bankers and money managers will participate in mentorship programs through nonprofits such as Management Leadership for Tomorrow. Citi holds a global annual day of service designed in part to strengthen employee morale and improve teamwork.\n",
      "11. Microsoft\n",
      " Courtesy of Microsoft\n",
      "Microsoft’s 2015 Cash contributions: $135.2 million\n",
      "Microsoft (msft) is aligning its giving around its business assets. Last year, the Redmond, Wash.-based company appointed Mary Snapp, who previously served as Microsoft’s deputy general counsel, to help strengthen its relationships with nonprofits and find new ways to use employees’ tech skills for social benefit. For example, the company has invited charity leaders to pitch ideas for hackathons where Microsoft engineers can solve data and tech problems for social good. Longstanding Microsoft programs match employee volunteer time with $25 in cash per hour, and enable engineers to teach computer science in high schools.\n",
      "12. Merck\n",
      " Courtesy of Merck\n",
      "Merck’s 2015 cash contributions: $132.5 million\n",
      "Led by Julie Gerberding, former director of the U.S. Centers for Disease Control and Prevention, Merck’s (mrk) corporate giving initiative focuses on reducing maternal mortality. In Senegal, for example, Merck partnered with the Bill & Melinda Gates Foundation and the national government to develop a network of entrepreneurs to supply rural health clinics with contraceptives. That work also benefits Merck by strengthening health systems. For employees, the company offers a yearlong fellowship to volunteer with nonprofit organizations; so far, 70 people have participated.\n",
      "13. Coca-Cola\n",
      " © 2013 Roff Smith, Courtesy of The Coca Cola Company\n",
      "Coca Cola’s 2015 cash contributions: $117.3 million\n",
      "In the past decade, Coca-Cola (ko) has expanded its giving portfolio beyond educational causes to include water and healthy living. For example, it supports the Global Environment and Technology Foundation’s work in Africa to replenish water sources, improve access to safe drinking water, and provide hygiene education. (Coca-Cola, like other beverage companies, has faced criticism over the environmental footprint of its bottled water products). It matches up to $10,000 per year in employee donations to education, arts, or environment groups, more than most corporations.\n",
      "14. AT&T\n",
      " Courtesy of AT&T\n",
      "AT&T’s 2015 cash contributions: $112.9 million\n",
      "The telecom company’s giving hews closely to its business objectives. Recognizing that a skilled workforce is key to its financial success, AT&T (t) has contributed $350 million since 2008 to help reduce high school dropout rates. The company is also partnering with Udacity, the online education provider, to subsidize nanodegrees—intensive certification programs–in IT. Its total giving grew by nearly a third last year due to the acquisition of satellite television company DirecTV.\n",
      "15. Target\n",
      " Photograph by Randy Shropshire — Getty Images for U.S. Fund for UNICEF\n",
      "Target’s 2015 cash contributions: $111.5 million\n",
      "Like its business operations, Target’s philanthropy is getting a facelift. As the retailer trims the number of products it offers customers, it is focusing its giving on one area where the business is also doubling down: wellness. As one of its first projects, Target (tgt) partnered with the U.S. Fund for UNICEF to develop an education-oriented activity bracelet that will both raise money for the charity and be distributed for free in schools. The transformation comes after Target completed a five-year commitment in 2015 to provide $1 billion in cash and products for U.S. education.\n",
      " \n",
      "16. General Mills\n",
      " Photograph by Miguel Samper, Courtesy of General Mills General Mills’ 2015 cash contributions: $105 million\n",
      "The Minneapolis-based food company looks for aid opportunities where its strengths intersect with community needs. It supports Partners in Food Solutions, a nonprofit that seeks to help small processors in Africa produce high-quality, safe food. Approximately 180 company employees volunteered with the group in 2015. General Mills’ (gis) general biggest cash grants that year included $4.4 million to the Greater Twin Cities United Way, to match employee giving; $1.2 million to the Academy of Nutrition and Dietetics Foundation, to support youth nutrition; and $1.2 million to the humanitarian group CARE USA.\n",
      "17. Pfizer\n",
      " Photograph by William Vazquez, Pfizer\n",
      "2015 Cash contributions: $93.3 million\n",
      "Pfizer (pfe) reports that it donated more than $3 billion in medicines last year, in addition to cash. The pharmaceutical company declined to share details on its biggest cash donations in 2015. But it said that recent grantees include the International Trachoma Initiative, which seeks to eliminate the eye infection that can cause blindness, and Gavi, the Vaccine Alliance, which increases access to immunizations. Pfizer provides employees with the chance to spend up to six months embedding with international aid groups. To date, more than 300 people have participated.\n",
      "18. Kroger\n",
      " Courtesy of Kroger\n",
      "Kroger’s 2015 cash contributions: $76.5 million\n",
      "In addition to donating produce to the Feeding America network of food banks, Kroger (kr) gives about $3-million to the group per year and also lends its employees to help with food safety and logistics. But much of the company’s giving—$51 million in 2015—is distributed through a customer rewards program. Kroger donates cash to charities of shoppers’ choice based on a share of their annual purchases with the grocer. The program helps build loyalty and deepen the company’s ties in local markets.\n",
      "19. PNC Financial Services\n",
      " Courtesy of PNC Financial\n",
      "PNC Financial’s 2015 cash contributions: $72 million\n",
      "In 2004, PNC (pnc) wagered its philanthropic portfolio on early childhood education. Since then, the bank has contributed more than $107 million to that signature giving program, Grow up Great. For example, it is supporting the Thirty Million Words Initiative, which aims to expand the vocabulary of children from low-income families in Chicago. PNC says that narrowing its charitable focus has helped enhance its brand affiliation with a cause and assess the impact of its philanthropy. Workers get 40 hours of paid time off each year to volunteer.\n",
      "20. Morgan Stanley\n",
      " Photograph by Wava Media, Morgan Stanley\n",
      "Morgan Stanley’s 2015 cash contributions: $62.5 million\n",
      "Like many large companies, Morgan Stanley (ms) sees its employees’ expertise as an asset it can bring to bear on social problems. Take its partnership with the nonprofit Feeding America. About 6,000 Morgan Stanley employees volunteer each year with the network of food banks, in some cases serving as board members. A team of four employees recently spent two months helping the hunger organization find ways to save costs and find efficiencies across its network. The firm also gives the charity about $2 million annually.\n"
     ]
    }
   ],
   "source": [
    "for i in p:\n",
    "    print(i.get_text()) #GET ALL THE TEXT IN THE P TAGS"
   ]
  },
  {
   "cell_type": "code",
   "execution_count": 39,
   "metadata": {},
   "outputs": [],
   "source": [
    "page=urllib.request.urlopen(url) #OPEN THE URL\n",
    "soup=BeautifulSoup(page,'html.parser') #PARSE HTML TAGS\n",
    "title=soup.find_all('h3', attrs={'class':'av-special-heading-tag'}) #GET ALL ELEMENTS WITH 'h3' TAG AND HAS A CLASS ATTRIBUTE OF 'av-special-heading-tag'\n",
    "voluntary_title=soup.find_all('h3', attrs={'class':'iconbox_content_title'}) #GET ALL ELEMENTS WITH 'h3' TAG AND HAS A CLASS ATTRIBUTE OF 'iconbox_content_title'\n",
    "paragraph=soup.find_all('div', attrs={'class':'iconbox_content'}) #GET ALL ELEMENTS WITH 'div' TAG AND HAS A CLASS ATTRIBUTE OF 'iconbox_content'"
   ]
  },
  {
   "cell_type": "code",
   "execution_count": 42,
   "metadata": {},
   "outputs": [
    {
     "data": {
      "text/plain": [
       "112"
      ]
     },
     "execution_count": 42,
     "metadata": {},
     "output_type": "execute_result"
    }
   ],
   "source": [
    "para=[]\n",
    "for i in paragraph:\n",
    "    para.append(i.get_text()) #APPEND ALL TEXT ASSOCIATED WITH 'paragraph' VARIABLE TO 'para' array\n",
    "len(para)"
   ]
  },
  {
   "cell_type": "code",
   "execution_count": 6,
   "metadata": {},
   "outputs": [],
   "source": [
    "tit=[]\n",
    "tit_voluntary=[]\n",
    "for i in title:\n",
    "    tit.append(i.get_text()) #APPEND ALL TEXT ASSOCIATED WITH 'title' VARIABLE TO 'tit' array\n",
    "for j in voluntary_title:\n",
    "    tit_voluntary.append(j.get_text()) #APPEND ALL TEXT ASSOCIATED WITH 'voluntary_title' VARIABLE TO 'tit_voluntary' array"
   ]
  },
  {
   "cell_type": "code",
   "execution_count": 7,
   "metadata": {},
   "outputs": [
    {
     "data": {
      "text/plain": [
       "['Matching Gifts',\n",
       " 'Volunteer Grants',\n",
       " 'Crowdfunding Campaign',\n",
       " 'Bank of America',\n",
       " 'General Electric',\n",
       " 'Google',\n",
       " 'Darden Restaurant Group',\n",
       " 'General Mills',\n",
       " 'BP',\n",
       " 'State Street',\n",
       " 'Intuit',\n",
       " 'McAfee',\n",
       " 'Chevron',\n",
       " 'Disney',\n",
       " 'Starbucks',\n",
       " 'Outerwall',\n",
       " 'CVS',\n",
       " 'Best Buy',\n",
       " 'Kohl’s',\n",
       " 'Verizon',\n",
       " 'CarMax',\n",
       " 'IBM',\n",
       " 'Liberty Global',\n",
       " 'Microsoft',\n",
       " 'Teradata',\n",
       " 'Kaiser Permanente',\n",
       " 'IMF (International Monetary Fund)',\n",
       " 'American Airlines',\n",
       " 'Delta Airlines',\n",
       " 'Southwest Airlines',\n",
       " 'United Airlines',\n",
       " 'JetBlue',\n",
       " 'Alaska Airlines',\n",
       " 'Hilton Worldwide',\n",
       " 'InterContinental Hotels Group',\n",
       " 'SeaWorld',\n",
       " 'Universal',\n",
       " 'Host Hotels',\n",
       " 'Choice Hotels',\n",
       " 'Amazon',\n",
       " 'Costco',\n",
       " 'The Home Depot',\n",
       " 'State Farm Insurance',\n",
       " 'Target',\n",
       " 'Walmart',\n",
       " 'JC Penney',\n",
       " 'Office Depot',\n",
       " 'Dick’s Sporting Goods',\n",
       " 'Gap',\n",
       " 'Macy’s',\n",
       " 'Reebok',\n",
       " 'Nordstrom',\n",
       " 'Albertson’s',\n",
       " 'Coca-Cola',\n",
       " 'Kroger',\n",
       " 'Supervalu',\n",
       " 'Whole Foods',\n",
       " 'Publix',\n",
       " 'The Fresh Market',\n",
       " 'Guide to Matching Gifts',\n",
       " 'Guide to Volunteer Grants',\n",
       " 'How to Write Fundraising Letters']"
      ]
     },
     "execution_count": 7,
     "metadata": {},
     "output_type": "execute_result"
    }
   ],
   "source": [
    "tit"
   ]
  },
  {
   "cell_type": "code",
   "execution_count": 8,
   "metadata": {},
   "outputs": [
    {
     "data": {
      "text/plain": [
       "62"
      ]
     },
     "execution_count": 8,
     "metadata": {},
     "output_type": "execute_result"
    }
   ],
   "source": [
    "len(tit)"
   ]
  },
  {
   "cell_type": "code",
   "execution_count": 12,
   "metadata": {},
   "outputs": [
    {
     "data": {
      "text/plain": [
       "['Bank of America’s Matching Gift Program',\n",
       " 'Bank of America Charitable Foundation',\n",
       " 'General Electric’s Matching Gift Program',\n",
       " 'The GE Foundation',\n",
       " 'Google’s Matching Gift Program',\n",
       " 'Google Dot Org',\n",
       " 'Darden’s Matching Gift Program',\n",
       " 'Darden Harvest Program',\n",
       " 'General Mills’ Matching Gift Program',\n",
       " 'General Mills’ Global Responsibility Initiatives',\n",
       " 'BP’s Fundraising Match Program',\n",
       " 'BP Foundation',\n",
       " 'State Street’s Fundraising Match Program',\n",
       " 'State Street’s Corporate Citizenship Program',\n",
       " 'Intuit’s Fundraising Match Program',\n",
       " 'Intuit’s Matching Gift Program',\n",
       " 'McAfee’s Fundraising Match Program',\n",
       " 'McAfee’s Matching Gift Program',\n",
       " 'Chevron’s Volunteer Grant Program',\n",
       " 'Chevron’s Corporate Social Responsibility Program',\n",
       " 'Disney’s Volunteer Grant Program',\n",
       " 'Disney’s Corporate Philanthropy Program',\n",
       " 'Starbucks’ Volunteer Grant Program',\n",
       " 'Starbucks’ Corporate Philanthropy Program',\n",
       " 'Outerwall’s Volunteer Grant Program',\n",
       " 'Outerwall’s Matching Gift Program',\n",
       " 'CVS’ Volunteer Grant Program',\n",
       " 'CVS Health Foundation',\n",
       " 'Best Buy’s Team Volunteer Grant Program',\n",
       " 'Best Buy Foundation',\n",
       " 'Kohl’s Team Volunteer Grant Program',\n",
       " 'Kohl’s Corporate Responsibility',\n",
       " 'Verizon’s Team Volunteer Grant Program',\n",
       " 'The Verizon Foundation',\n",
       " 'CarMax’s Team Volunteer Grant Program',\n",
       " 'CarMax’s Matching Gift Program',\n",
       " 'IBM’s Team Volunteer Grant Program',\n",
       " 'IBM’s Team Matching Gift Program',\n",
       " 'Liberty Global’s Annual Giving Campaign',\n",
       " 'Liberty Global’s Corporate Responsibility Program',\n",
       " 'Microsoft’s Annual Giving Campaign',\n",
       " 'Microsoft’s Corporate Philanthropy Program',\n",
       " 'Teradata’s Annual Giving Campaign',\n",
       " 'Teradata’s Community Relations',\n",
       " 'Kaiser Permanente’s Annual Giving Campaign',\n",
       " 'Kaiser Permanente’s Matching Gift Program',\n",
       " 'IMF’s Annual Giving Campaign',\n",
       " 'IMF’s Matching Gift Program',\n",
       " 'American Airlines’ Global Giving Strategy',\n",
       " 'American Airlines’ American Giving',\n",
       " 'Delta’s Force for Global Good',\n",
       " 'Delta Charitable Giving',\n",
       " 'Southwest Airlines’ Chairtable Giving',\n",
       " 'Southwest Airlines’ Medical Transportation Grant Program',\n",
       " 'United Airlines’ In-Kind Donations',\n",
       " 'United Airlines’ Grant Program',\n",
       " 'JetBlue’s Matching Gift Program',\n",
       " 'JetBlue’s Volunteer Grant Program',\n",
       " 'Alaska Airlines’ Matching Gift Program',\n",
       " 'Alaska Airlines’ Volunteer Grant Program',\n",
       " 'Hilton Foundation’s Matching Gift Program',\n",
       " 'Hilton’s Corporate Responsibility Program',\n",
       " 'InterContinental’s Corporate Responsibility Program',\n",
       " 'InterContinental’s Grant Program',\n",
       " 'SeaWorld Conservation Fund',\n",
       " 'SeaWorld’s Community Affairs Program',\n",
       " 'Universal’s Donation Request Program',\n",
       " 'Universal’s Corporate Philanthropy Program',\n",
       " 'Host Hotels’ Matching Gift Program',\n",
       " 'Host Hotels’ Corporate Citizenship Program',\n",
       " 'Choice Hotels’ Matching Gift Program',\n",
       " 'Choice Hotels’ Volunteer Grant Program',\n",
       " 'Amazon Smile Program',\n",
       " 'Amazon in the Community',\n",
       " 'Costco’s Matching Gift Program',\n",
       " 'Costco’s Charitable Giving Program',\n",
       " 'The Home Depot’s Matching Gift Program',\n",
       " 'The Home Depot Foundation',\n",
       " 'State Farm’s Matching Gift Program',\n",
       " 'State Farm Community Involvement',\n",
       " 'Target’s Grant Program',\n",
       " 'The Target Foundation',\n",
       " 'Walmart’s Volunteer Grant Program',\n",
       " 'Walmart’s Community Grant Program',\n",
       " 'JC Penney’s Volunteer Grant Program',\n",
       " 'JC Penney Cares Program',\n",
       " 'Office Depot’s Matching Gift Program',\n",
       " 'Office Depot’s Volunteer Grant Program',\n",
       " 'Dick‘s Sporting Goods’ Grant & Sponsorship Program',\n",
       " 'Dick‘s Sporting Goods Foundation',\n",
       " 'Gap’s Matching Gift Program',\n",
       " 'Gap’s Volunteer Grant Program',\n",
       " 'Macy’s Matching Gift Program',\n",
       " 'Macy’s Volunteer Grant Program',\n",
       " 'Reebok’s Matching Gift Program',\n",
       " 'The Reebok Foundation',\n",
       " 'Nordstrom’s Matching Gift Program',\n",
       " 'Nordstrom’s Grant Program',\n",
       " 'Albertsons’ Corporate Philanthropy Program',\n",
       " 'Albertsons’ Grant Program',\n",
       " 'Coca-Cola’s Matching Gift Program',\n",
       " 'Coca-Cola’s Grant Program',\n",
       " 'Kroger Community Rewards',\n",
       " 'Kroger’s Bringing Hope to the Table Program',\n",
       " 'Supervalu Matching Gift Program',\n",
       " 'Supervalu Volunteer Grant Program',\n",
       " 'Whole Foods’ Corporate Philanthropy Program',\n",
       " 'Whole Foods Foundation',\n",
       " 'Publix’s Matching Gift Program',\n",
       " 'Publix’s Donation Requests',\n",
       " 'The Fresh Market’s In-Kind Donation Program',\n",
       " 'The Fresh Market’s Nonprofit Partnerships']"
      ]
     },
     "execution_count": 12,
     "metadata": {},
     "output_type": "execute_result"
    }
   ],
   "source": [
    "tit_voluntary"
   ]
  },
  {
   "cell_type": "code",
   "execution_count": 45,
   "metadata": {
    "collapsed": true
   },
   "outputs": [],
   "source": [
    "#APPEND ALL DATA INTO ONE DICTIONARY\n",
    "\n",
    "dic={'company_name': [], 'foundation_name': [],'foundation_program': [],'notes': []}\n",
    "j=0\n",
    "for i in range(3,59):\n",
    "    dic['company_name'].append(tit[i])\n",
    "    dic['foundation_name'].append(tit_voluntary[j])\n",
    "    dic['foundation_program'].append(tit_voluntary[j+1])\n",
    "    dic['notes'].append(para[j+1])\n",
    "    j=j+2"
   ]
  },
  {
   "cell_type": "code",
   "execution_count": 29,
   "metadata": {},
   "outputs": [
    {
     "data": {
      "text/plain": [
       "{'company_name': ['Bank of America',\n",
       "  'General Electric',\n",
       "  'Google',\n",
       "  'Darden Restaurant Group',\n",
       "  'General Mills',\n",
       "  'BP',\n",
       "  'State Street',\n",
       "  'Intuit',\n",
       "  'McAfee',\n",
       "  'Chevron',\n",
       "  'Disney',\n",
       "  'Starbucks',\n",
       "  'Outerwall',\n",
       "  'CVS',\n",
       "  'Best Buy',\n",
       "  'Kohl’s',\n",
       "  'Verizon',\n",
       "  'CarMax',\n",
       "  'IBM',\n",
       "  'Liberty Global',\n",
       "  'Microsoft',\n",
       "  'Teradata',\n",
       "  'Kaiser Permanente',\n",
       "  'IMF (International Monetary Fund)',\n",
       "  'American Airlines',\n",
       "  'Delta Airlines',\n",
       "  'Southwest Airlines',\n",
       "  'United Airlines',\n",
       "  'JetBlue',\n",
       "  'Alaska Airlines',\n",
       "  'Hilton Worldwide',\n",
       "  'InterContinental Hotels Group',\n",
       "  'SeaWorld',\n",
       "  'Universal',\n",
       "  'Host Hotels',\n",
       "  'Choice Hotels',\n",
       "  'Amazon',\n",
       "  'Costco',\n",
       "  'The Home Depot',\n",
       "  'State Farm Insurance',\n",
       "  'Target',\n",
       "  'Walmart',\n",
       "  'JC Penney',\n",
       "  'Office Depot',\n",
       "  'Dick’s Sporting Goods',\n",
       "  'Gap',\n",
       "  'Macy’s',\n",
       "  'Reebok',\n",
       "  'Nordstrom',\n",
       "  'Albertson’s',\n",
       "  'Coca-Cola',\n",
       "  'Kroger',\n",
       "  'Supervalu',\n",
       "  'Whole Foods',\n",
       "  'Publix',\n",
       "  'The Fresh Market'],\n",
       " 'foundation_name': ['Bank of America’s Matching Gift Program',\n",
       "  'General Electric’s Matching Gift Program',\n",
       "  'Google’s Matching Gift Program',\n",
       "  'Darden’s Matching Gift Program',\n",
       "  'General Mills’ Matching Gift Program',\n",
       "  'BP’s Fundraising Match Program',\n",
       "  'State Street’s Fundraising Match Program',\n",
       "  'Intuit’s Fundraising Match Program',\n",
       "  'McAfee’s Fundraising Match Program',\n",
       "  'Chevron’s Volunteer Grant Program',\n",
       "  'Disney’s Volunteer Grant Program',\n",
       "  'Starbucks’ Volunteer Grant Program',\n",
       "  'Outerwall’s Volunteer Grant Program',\n",
       "  'CVS’ Volunteer Grant Program',\n",
       "  'Best Buy’s Team Volunteer Grant Program',\n",
       "  'Kohl’s Team Volunteer Grant Program',\n",
       "  'Verizon’s Team Volunteer Grant Program',\n",
       "  'CarMax’s Team Volunteer Grant Program',\n",
       "  'IBM’s Team Volunteer Grant Program',\n",
       "  'Liberty Global’s Annual Giving Campaign',\n",
       "  'Microsoft’s Annual Giving Campaign',\n",
       "  'Teradata’s Annual Giving Campaign',\n",
       "  'Kaiser Permanente’s Annual Giving Campaign',\n",
       "  'IMF’s Annual Giving Campaign',\n",
       "  'American Airlines’ Global Giving Strategy',\n",
       "  'Delta’s Force for Global Good',\n",
       "  'Southwest Airlines’ Chairtable Giving',\n",
       "  'United Airlines’ In-Kind Donations',\n",
       "  'JetBlue’s Matching Gift Program',\n",
       "  'Alaska Airlines’ Matching Gift Program',\n",
       "  'Hilton Foundation’s Matching Gift Program',\n",
       "  'InterContinental’s Corporate Responsibility Program',\n",
       "  'SeaWorld Conservation Fund',\n",
       "  'Universal’s Donation Request Program',\n",
       "  'Host Hotels’ Matching Gift Program',\n",
       "  'Choice Hotels’ Matching Gift Program',\n",
       "  'Amazon Smile Program',\n",
       "  'Costco’s Matching Gift Program',\n",
       "  'The Home Depot’s Matching Gift Program',\n",
       "  'State Farm’s Matching Gift Program',\n",
       "  'Target’s Grant Program',\n",
       "  'Walmart’s Volunteer Grant Program',\n",
       "  'JC Penney’s Volunteer Grant Program',\n",
       "  'Office Depot’s Matching Gift Program',\n",
       "  'Dick‘s Sporting Goods’ Grant & Sponsorship Program',\n",
       "  'Gap’s Matching Gift Program',\n",
       "  'Macy’s Matching Gift Program',\n",
       "  'Reebok’s Matching Gift Program',\n",
       "  'Nordstrom’s Matching Gift Program',\n",
       "  'Albertsons’ Corporate Philanthropy Program',\n",
       "  'Coca-Cola’s Matching Gift Program',\n",
       "  'Kroger Community Rewards',\n",
       "  'Supervalu Matching Gift Program',\n",
       "  'Whole Foods’ Corporate Philanthropy Program',\n",
       "  'Publix’s Matching Gift Program',\n",
       "  'The Fresh Market’s In-Kind Donation Program'],\n",
       " 'foundation_program': ['Bank of America Charitable Foundation',\n",
       "  'The GE Foundation',\n",
       "  'Google Dot Org',\n",
       "  'Darden Harvest Program',\n",
       "  'General Mills’ Global Responsibility Initiatives',\n",
       "  'BP Foundation',\n",
       "  'State Street’s Corporate Citizenship Program',\n",
       "  'Intuit’s Matching Gift Program',\n",
       "  'McAfee’s Matching Gift Program',\n",
       "  'Chevron’s Corporate Social Responsibility Program',\n",
       "  'Disney’s Corporate Philanthropy Program',\n",
       "  'Starbucks’ Corporate Philanthropy Program',\n",
       "  'Outerwall’s Matching Gift Program',\n",
       "  'CVS Health Foundation',\n",
       "  'Best Buy Foundation',\n",
       "  'Kohl’s Corporate Responsibility',\n",
       "  'The Verizon Foundation',\n",
       "  'CarMax’s Matching Gift Program',\n",
       "  'IBM’s Team Matching Gift Program',\n",
       "  'Liberty Global’s Corporate Responsibility Program',\n",
       "  'Microsoft’s Corporate Philanthropy Program',\n",
       "  'Teradata’s Community Relations',\n",
       "  'Kaiser Permanente’s Matching Gift Program',\n",
       "  'IMF’s Matching Gift Program',\n",
       "  'American Airlines’ American Giving',\n",
       "  'Delta Charitable Giving',\n",
       "  'Southwest Airlines’ Medical Transportation Grant Program',\n",
       "  'United Airlines’ Grant Program',\n",
       "  'JetBlue’s Volunteer Grant Program',\n",
       "  'Alaska Airlines’ Volunteer Grant Program',\n",
       "  'Hilton’s Corporate Responsibility Program',\n",
       "  'InterContinental’s Grant Program',\n",
       "  'SeaWorld’s Community Affairs Program',\n",
       "  'Universal’s Corporate Philanthropy Program',\n",
       "  'Host Hotels’ Corporate Citizenship Program',\n",
       "  'Choice Hotels’ Volunteer Grant Program',\n",
       "  'Amazon in the Community',\n",
       "  'Costco’s Charitable Giving Program',\n",
       "  'The Home Depot Foundation',\n",
       "  'State Farm Community Involvement',\n",
       "  'The Target Foundation',\n",
       "  'Walmart’s Community Grant Program',\n",
       "  'JC Penney Cares Program',\n",
       "  'Office Depot’s Volunteer Grant Program',\n",
       "  'Dick‘s Sporting Goods Foundation',\n",
       "  'Gap’s Volunteer Grant Program',\n",
       "  'Macy’s Volunteer Grant Program',\n",
       "  'The Reebok Foundation',\n",
       "  'Nordstrom’s Grant Program',\n",
       "  'Albertsons’ Grant Program',\n",
       "  'Coca-Cola’s Grant Program',\n",
       "  'Kroger’s Bringing Hope to the Table Program',\n",
       "  'Supervalu Volunteer Grant Program',\n",
       "  'Whole Foods Foundation',\n",
       "  'Publix’s Donation Requests',\n",
       "  'The Fresh Market’s Nonprofit Partnerships']}"
      ]
     },
     "execution_count": 29,
     "metadata": {},
     "output_type": "execute_result"
    }
   ],
   "source": [
    "dic"
   ]
  },
  {
   "cell_type": "code",
   "execution_count": 46,
   "metadata": {
    "collapsed": true
   },
   "outputs": [],
   "source": [
    "#WRITE DICTIONARY TO EXCEL\n",
    "import xlsxwriter\n",
    "\n",
    "workbook = xlsxwriter.Workbook('d_charity.xlsx')\n",
    "worksheet = workbook.add_worksheet()\n",
    "\n",
    "\n",
    "row = 0\n",
    "col = 0\n",
    "\n",
    "for key in dic.keys():\n",
    "    row =0\n",
    "    worksheet.write(row, col, key)\n",
    "    row+=1\n",
    "    for item in dic[key]:\n",
    "        worksheet.write(row, col + 1, item)\n",
    "        row += 1\n",
    "    col+=1\n",
    "\n",
    "workbook.close()"
   ]
  },
  {
   "cell_type": "code",
   "execution_count": null,
   "metadata": {
    "collapsed": true
   },
   "outputs": [],
   "source": [
    "# col = 0\n",
    "\n",
    "# for key in d.keys():\n",
    "#     row = 0\n",
    "#     worksheet.write(row, col, key)\n",
    "#     row += 1\n",
    "#     for item in d[key]:\n",
    "#         worksheet.write(row, col, item)\n",
    "#         row += 1\n",
    "#     col += 1\n",
    "\n",
    "# workbook.close()"
   ]
  },
  {
   "cell_type": "code",
   "execution_count": 59,
   "metadata": {
    "collapsed": true
   },
   "outputs": [],
   "source": []
  },
  {
   "cell_type": "markdown",
   "metadata": {},
   "source": [
    "# EXTRA PROJECTS USING BEAUTIFULSOUP"
   ]
  },
  {
   "cell_type": "code",
   "execution_count": 1,
   "metadata": {},
   "outputs": [],
   "source": [
    "import urllib.request\n",
    "from bs4 import BeautifulSoup\n",
    "# url='https://doublethedonation.com/tips/companies-that-donate-to-nonprofits/'\n",
    "url='https://printivo.com/'"
   ]
  },
  {
   "cell_type": "code",
   "execution_count": null,
   "metadata": {},
   "outputs": [],
   "source": [
    "page=urllib.request.urlopen(url)\n",
    "soup=BeautifulSoup(page,'html.parser')\n",
    "title=soup.find_all('strong')\n",
    "p=soup.find_all('p')"
   ]
  },
  {
   "cell_type": "code",
   "execution_count": null,
   "metadata": {},
   "outputs": [],
   "source": [
    "for i in p:\n",
    "    print(i.get_text())"
   ]
  },
  {
   "cell_type": "code",
   "execution_count": 37,
   "metadata": {},
   "outputs": [
    {
     "data": {
      "text/plain": [
       "['banners-large-format',\n",
       " 'branded-envelopes',\n",
       " 'branded-notepads-and-jotters',\n",
       " 'business-cards',\n",
       " 'calendars',\n",
       " 'caps-hats',\n",
       " 'corporate-gifts',\n",
       " 'custom-mugs',\n",
       " 'custom-t-shirts',\n",
       " 'flyers-handbills',\n",
       " 'frames-wall-arts',\n",
       " 'greeting-cards',\n",
       " 'letterhead',\n",
       " 'marketing-brochures',\n",
       " 'paper-bags',\n",
       " 'phone-cases',\n",
       " 'plastic-identity-cards',\n",
       " 'posters',\n",
       " 'presentation-folders',\n",
       " 'stickers',\n",
       " 'tote-bags',\n",
       " 'wedding-stationery']"
      ]
     },
     "execution_count": 37,
     "metadata": {},
     "output_type": "execute_result"
    }
   ],
   "source": [
    "page=urllib.request.urlopen(url)\n",
    "soup=BeautifulSoup(page,'html.parser')\n",
    "title=soup.find_all('a', attrs={'class':'text-sm block py-1 transition-2'})\n",
    "\n",
    "tit2=[]\n",
    "for i in title:\n",
    "    tit2.append(i.get_text())\n",
    "tit\n",
    "title\n",
    "t=soup.find_all('a', attrs={'class':'text-sm block py-1 transition-2'})[1]['data-slug']\n",
    "obj2=soup.find(\"div\", attrs={'class':'w-full main-nav-parent-items'})\n",
    "children2 = obj2.findChildren(\"a\" , attrs={'class':'text-sm block py-1 transition-2'},recursive=False)\n",
    "\n",
    "tit=[]\n",
    "for i in range(len(tit2)):\n",
    "    tit.append(soup.find_all('a', attrs={'class':'text-sm block py-1 transition-2'})[i]['data-slug'])\n",
    "tit"
   ]
  },
  {
   "cell_type": "code",
   "execution_count": 40,
   "metadata": {},
   "outputs": [
    {
     "data": {
      "text/plain": [
       "<div class=\"hidden invisible transition-5\" id=\"wedding-stationery-sub-menu\"><a class=\"text-sm mb-2 block\" data-price=\"35000\" data-quantity=\"100\" data-thumb=\"/files/category_thumbnails/1446914098_Wedding-Invitation.png\" data-title=\"Wedding Invitations\" href=\"/category/wedding-invitations\">Wedding Invitations</a><a class=\"text-sm mb-2 block\" data-price=\"17500\" data-quantity=\"100\" data-thumb=\"/files/category_thumbnails/1446911491_safethedate.png\" data-title=\"Save The Date (A6 sizes)\" href=\"/category/save-the-date-a6-sizes\">Save The Date (A6 sizes)</a><a class=\"text-sm mb-2 block\" data-price=\"9499\" data-quantity=\"100\" data-thumb=\"/files/category_thumbnails/1446704368_Food Menu2.png\" data-title=\"Food &amp; Drink Menus\" href=\"/category/food-drink-menus\">Food &amp; Drink Menus</a></div>"
      ]
     },
     "execution_count": 40,
     "metadata": {},
     "output_type": "execute_result"
    }
   ],
   "source": [
    "data=[]\n",
    "for name in tit:\n",
    "    obj=soup.find(\"div\", {\"id\": name+\"-sub-menu\"})\n",
    "    children = obj.findChildren(\"a\" , attrs={'class':'text-sm mb-2 block'})\n",
    "obj"
   ]
  },
  {
   "cell_type": "code",
   "execution_count": 15,
   "metadata": {},
   "outputs": [
    {
     "name": "stdout",
     "output_type": "stream",
     "text": [
      "Roll Up Banners (Big Base)\n",
      "X-Banner\n",
      "Rollup Banner (Small Base)\n",
      "Flex Banners Medium (5ft x 3ft)\n",
      "Flex Banners Large (7ft x 3ft)\n",
      "Teardrop Banners (3ft by 8ft)\n",
      "A-Frames Signs\n",
      "Backdrop Banners\n",
      "Instagram Frame Boards\n",
      "Dummy Cheque\n",
      "Snapper Frame\n",
      "Waterbase Poster Signs\n"
     ]
    }
   ],
   "source": [
    "for i in children:\n",
    "    print(i.get_text())"
   ]
  },
  {
   "cell_type": "code",
   "execution_count": null,
   "metadata": {},
   "outputs": [],
   "source": [
    "obj=soup.find(\"div\", {\"id\": \"Banners & Large Format-sub-menu\"})\n"
   ]
  },
  {
   "cell_type": "code",
   "execution_count": null,
   "metadata": {},
   "outputs": [],
   "source": []
  }
 ],
 "metadata": {
  "kernelspec": {
   "display_name": "Python 3",
   "language": "python",
   "name": "python3"
  },
  "language_info": {
   "codemirror_mode": {
    "name": "ipython",
    "version": 3
   },
   "file_extension": ".py",
   "mimetype": "text/x-python",
   "name": "python",
   "nbconvert_exporter": "python",
   "pygments_lexer": "ipython3",
   "version": "3.6.5"
  }
 },
 "nbformat": 4,
 "nbformat_minor": 2
}
